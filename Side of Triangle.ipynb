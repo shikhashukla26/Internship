{
 "cells": [
  {
   "cell_type": "code",
   "execution_count": 7,
   "id": "1deec07e",
   "metadata": {},
   "outputs": [
    {
     "name": "stdout",
     "output_type": "stream",
     "text": [
      "Enter Base:3\n",
      "Enter Height:4\n",
      "The hypotenuse = 5.0\n"
     ]
    }
   ],
   "source": [
    "import math\n",
    "a=int(input('Enter Base:'))\n",
    "b=int(input('Enter Height:'))\n",
    "c=math.sqrt(a*a+b*b)\n",
    "print('The hypotenuse =',c)\n"
   ]
  },
  {
   "cell_type": "code",
   "execution_count": null,
   "id": "a63e6026",
   "metadata": {},
   "outputs": [],
   "source": []
  }
 ],
 "metadata": {
  "kernelspec": {
   "display_name": "Python 3 (ipykernel)",
   "language": "python",
   "name": "python3"
  },
  "language_info": {
   "codemirror_mode": {
    "name": "ipython",
    "version": 3
   },
   "file_extension": ".py",
   "mimetype": "text/x-python",
   "name": "python",
   "nbconvert_exporter": "python",
   "pygments_lexer": "ipython3",
   "version": "3.9.12"
  }
 },
 "nbformat": 4,
 "nbformat_minor": 5
}
