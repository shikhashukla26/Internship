{
 "cells": [
  {
   "cell_type": "code",
   "execution_count": 13,
   "id": "6eb82b01",
   "metadata": {},
   "outputs": [
    {
     "name": "stdout",
     "output_type": "stream",
     "text": [
      "Enter the String:shikhashukla\n",
      "count of s = 2\n",
      "count of h = 3\n",
      "count of i = 1\n",
      "count of k = 2\n",
      "count of h = 3\n",
      "count of a = 2\n",
      "count of s = 1\n",
      "count of h = 3\n",
      "count of u = 1\n",
      "count of k = 2\n",
      "count of l = 1\n",
      "count of a = 2\n"
     ]
    }
   ],
   "source": [
    "a= str(input('Enter the String:'))\n",
    "i=1\n",
    "count=1\n",
    "j=1\n",
    "for ch in a:\n",
    "    while i<len(a):\n",
    "        if ch==a[i]:\n",
    "            count+=1\n",
    "        i+=1  \n",
    "    print(\"count of\",ch,\"=\",count)\n",
    "    count=0\n",
    "    i=1\n"
   ]
  },
  {
   "cell_type": "code",
   "execution_count": null,
   "id": "b7d38036",
   "metadata": {},
   "outputs": [],
   "source": []
  },
  {
   "cell_type": "code",
   "execution_count": null,
   "id": "67cb81dc",
   "metadata": {},
   "outputs": [],
   "source": []
  },
  {
   "cell_type": "code",
   "execution_count": null,
   "id": "f6f2ed5a",
   "metadata": {},
   "outputs": [],
   "source": []
  }
 ],
 "metadata": {
  "kernelspec": {
   "display_name": "Python 3 (ipykernel)",
   "language": "python",
   "name": "python3"
  },
  "language_info": {
   "codemirror_mode": {
    "name": "ipython",
    "version": 3
   },
   "file_extension": ".py",
   "mimetype": "text/x-python",
   "name": "python",
   "nbconvert_exporter": "python",
   "pygments_lexer": "ipython3",
   "version": "3.9.12"
  }
 },
 "nbformat": 4,
 "nbformat_minor": 5
}
