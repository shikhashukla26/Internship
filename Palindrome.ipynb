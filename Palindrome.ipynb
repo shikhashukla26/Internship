{
 "cells": [
  {
   "cell_type": "code",
   "execution_count": 10,
   "id": "b5e90c8f",
   "metadata": {},
   "outputs": [
    {
     "name": "stdout",
     "output_type": "stream",
     "text": [
      "Enter a string: saas\n",
      "String is Palindrome\n"
     ]
    }
   ],
   "source": [
    "a=str(input('Enter a string: '))\n",
    "b=len(a)\n",
    "i=0\n",
    "flag=0\n",
    "while i<b/2:\n",
    "    if a[i]==a[b-1-i]:\n",
    "        i=i+1\n",
    "    else:\n",
    "        flag=1\n",
    "        break\n",
    "if flag==0:\n",
    "    print('String is Palindrome')\n",
    "else :\n",
    "    print('String is not Palindrome')\n",
    "    \n",
    "\n",
    "        \n",
    "    \n",
    "    \n",
    "    "
   ]
  },
  {
   "cell_type": "code",
   "execution_count": null,
   "id": "47fa8ff3",
   "metadata": {},
   "outputs": [],
   "source": []
  },
  {
   "cell_type": "code",
   "execution_count": null,
   "id": "637c4986",
   "metadata": {},
   "outputs": [],
   "source": []
  },
  {
   "cell_type": "code",
   "execution_count": null,
   "id": "5f6dd41e",
   "metadata": {},
   "outputs": [],
   "source": []
  }
 ],
 "metadata": {
  "kernelspec": {
   "display_name": "Python 3 (ipykernel)",
   "language": "python",
   "name": "python3"
  },
  "language_info": {
   "codemirror_mode": {
    "name": "ipython",
    "version": 3
   },
   "file_extension": ".py",
   "mimetype": "text/x-python",
   "name": "python",
   "nbconvert_exporter": "python",
   "pygments_lexer": "ipython3",
   "version": "3.9.12"
  }
 },
 "nbformat": 4,
 "nbformat_minor": 5
}
